{
 "cells": [
  {
   "cell_type": "markdown",
   "metadata": {},
   "source": [
    "# Project: No-show Appointments Data Analysis\n",
    "\n",
    "## Table of Contents\n",
    "<ul>\n",
    "<li><a href=\"#intro\">Introduction</a></li>\n",
    "<li><a href=\"#wrangling\">Data Wrangling</a></li>\n",
    "<li><a href=\"#eda\">Exploratory Data Analysis</a></li>\n",
    "<li><a href=\"#conclusions\">Conclusions</a></li>\n",
    "</ul>"
   ]
  },
  {
   "cell_type": "markdown",
   "metadata": {},
   "source": [
    "<a id='intro'></a>\n",
    "## Introduction\n",
    "\n",
    "<p>In this project we will be analysis data associated with medical appointments. In particular we'll be interested in finding the a trends anmony the patients that didn't show up for they appointment.</p>\n",
    "\n",
    "<p>The dateset we will be using in this project is called No-show appointment and is provide by Kaggle. The dateset is a collection of information from 100k medical appointments in Brazil with the focus on whether the patients show up for their appointment or not.</p>"
   ]
  },
  {
   "cell_type": "code",
   "execution_count": 35,
   "metadata": {},
   "outputs": [],
   "source": [
    "import pandas as pd\n",
    "import numpy as np\n",
    "import matplotlib.pyplot as plt\n",
    "from datetime import timedelta\n",
    "\n",
    "%matplotlib inline"
   ]
  },
  {
   "cell_type": "markdown",
   "metadata": {},
   "source": [
    "<a id='wrangling'></a>\n",
    "## Data Wrangling\n",
    "\n",
    "### General Properties"
   ]
  },
  {
   "cell_type": "code",
   "execution_count": 36,
   "metadata": {
    "scrolled": true
   },
   "outputs": [
    {
     "data": {
      "text/html": [
       "<div>\n",
       "<style scoped>\n",
       "    .dataframe tbody tr th:only-of-type {\n",
       "        vertical-align: middle;\n",
       "    }\n",
       "\n",
       "    .dataframe tbody tr th {\n",
       "        vertical-align: top;\n",
       "    }\n",
       "\n",
       "    .dataframe thead th {\n",
       "        text-align: right;\n",
       "    }\n",
       "</style>\n",
       "<table border=\"1\" class=\"dataframe\">\n",
       "  <thead>\n",
       "    <tr style=\"text-align: right;\">\n",
       "      <th></th>\n",
       "      <th>PatientId</th>\n",
       "      <th>AppointmentID</th>\n",
       "      <th>Gender</th>\n",
       "      <th>ScheduledDay</th>\n",
       "      <th>AppointmentDay</th>\n",
       "      <th>Age</th>\n",
       "      <th>Neighbourhood</th>\n",
       "      <th>Scholarship</th>\n",
       "      <th>Hipertension</th>\n",
       "      <th>Diabetes</th>\n",
       "      <th>Alcoholism</th>\n",
       "      <th>Handcap</th>\n",
       "      <th>SMS_received</th>\n",
       "      <th>No-show</th>\n",
       "    </tr>\n",
       "  </thead>\n",
       "  <tbody>\n",
       "    <tr>\n",
       "      <th>0</th>\n",
       "      <td>2.987250e+13</td>\n",
       "      <td>5642903</td>\n",
       "      <td>F</td>\n",
       "      <td>2016-04-29T18:38:08Z</td>\n",
       "      <td>2016-04-29T00:00:00Z</td>\n",
       "      <td>62</td>\n",
       "      <td>JARDIM DA PENHA</td>\n",
       "      <td>0</td>\n",
       "      <td>1</td>\n",
       "      <td>0</td>\n",
       "      <td>0</td>\n",
       "      <td>0</td>\n",
       "      <td>0</td>\n",
       "      <td>No</td>\n",
       "    </tr>\n",
       "    <tr>\n",
       "      <th>1</th>\n",
       "      <td>5.589980e+14</td>\n",
       "      <td>5642503</td>\n",
       "      <td>M</td>\n",
       "      <td>2016-04-29T16:08:27Z</td>\n",
       "      <td>2016-04-29T00:00:00Z</td>\n",
       "      <td>56</td>\n",
       "      <td>JARDIM DA PENHA</td>\n",
       "      <td>0</td>\n",
       "      <td>0</td>\n",
       "      <td>0</td>\n",
       "      <td>0</td>\n",
       "      <td>0</td>\n",
       "      <td>0</td>\n",
       "      <td>No</td>\n",
       "    </tr>\n",
       "    <tr>\n",
       "      <th>2</th>\n",
       "      <td>4.262960e+12</td>\n",
       "      <td>5642549</td>\n",
       "      <td>F</td>\n",
       "      <td>2016-04-29T16:19:04Z</td>\n",
       "      <td>2016-04-29T00:00:00Z</td>\n",
       "      <td>62</td>\n",
       "      <td>MATA DA PRAIA</td>\n",
       "      <td>0</td>\n",
       "      <td>0</td>\n",
       "      <td>0</td>\n",
       "      <td>0</td>\n",
       "      <td>0</td>\n",
       "      <td>0</td>\n",
       "      <td>No</td>\n",
       "    </tr>\n",
       "    <tr>\n",
       "      <th>3</th>\n",
       "      <td>8.679510e+11</td>\n",
       "      <td>5642828</td>\n",
       "      <td>F</td>\n",
       "      <td>2016-04-29T17:29:31Z</td>\n",
       "      <td>2016-04-29T00:00:00Z</td>\n",
       "      <td>8</td>\n",
       "      <td>PONTAL DE CAMBURI</td>\n",
       "      <td>0</td>\n",
       "      <td>0</td>\n",
       "      <td>0</td>\n",
       "      <td>0</td>\n",
       "      <td>0</td>\n",
       "      <td>0</td>\n",
       "      <td>No</td>\n",
       "    </tr>\n",
       "    <tr>\n",
       "      <th>4</th>\n",
       "      <td>8.841190e+12</td>\n",
       "      <td>5642494</td>\n",
       "      <td>F</td>\n",
       "      <td>2016-04-29T16:07:23Z</td>\n",
       "      <td>2016-04-29T00:00:00Z</td>\n",
       "      <td>56</td>\n",
       "      <td>JARDIM DA PENHA</td>\n",
       "      <td>0</td>\n",
       "      <td>1</td>\n",
       "      <td>1</td>\n",
       "      <td>0</td>\n",
       "      <td>0</td>\n",
       "      <td>0</td>\n",
       "      <td>No</td>\n",
       "    </tr>\n",
       "  </tbody>\n",
       "</table>\n",
       "</div>"
      ],
      "text/plain": [
       "      PatientId  AppointmentID Gender   ...    Handcap SMS_received  No-show\n",
       "0  2.987250e+13        5642903      F   ...          0            0       No\n",
       "1  5.589980e+14        5642503      M   ...          0            0       No\n",
       "2  4.262960e+12        5642549      F   ...          0            0       No\n",
       "3  8.679510e+11        5642828      F   ...          0            0       No\n",
       "4  8.841190e+12        5642494      F   ...          0            0       No\n",
       "\n",
       "[5 rows x 14 columns]"
      ]
     },
     "execution_count": 36,
     "metadata": {},
     "output_type": "execute_result"
    }
   ],
   "source": [
    "df = pd.read_csv('noshowappointments-kagglev2-may-2016.csv')\n",
    "\n",
    "df.head()"
   ]
  },
  {
   "cell_type": "markdown",
   "metadata": {},
   "source": [
    "<ul>\n",
    "    <li>PatientId: self explanatory</li>\n",
    "    <li>AppointmentID: self explanatory</li>\n",
    "    <li>Gender: self explanatory</li>\n",
    "    <li>ScheduledDay: the day the patient scheduled for the appointment</li>\n",
    "    <li>AppointmentDay:the day of the appointment it self</li>\n",
    "    <li>Age: self explanatory</li>\n",
    "    <li>Neighbourhood: what neighbourhood was patient living in?</li>\n",
    "    <li>Scholarship: did the patient have a scholarship? 1 if he/she did otherwise 0</li>\n",
    "    <li>Hipertension: did the patient have a high blood pressure? 1 if he/she did otherwise 0</li>\n",
    "    <li>Diabetes: was the patient diabetic? 1 if he/she did otherwise 0</li>\n",
    "    <li>Alcoholism: was the patient alcoholic? 1 if he/she did otherwise 0</li>\n",
    "    <li>Handcap: was the patient handcap? 1 if he/she did otherwise 0</li>\n",
    "    <li>SMS_received: did the patient receive a SMS for hes/shes appointment? 1 if he/she did otherwise 0</li>\n",
    "    <li>No-show: did the NOT show up for the Appointment? Yes if he/she did otherwise No </li>\n",
    "</ul>"
   ]
  },
  {
   "cell_type": "code",
   "execution_count": 37,
   "metadata": {},
   "outputs": [
    {
     "name": "stdout",
     "output_type": "stream",
     "text": [
      "<class 'pandas.core.frame.DataFrame'>\n",
      "RangeIndex: 110527 entries, 0 to 110526\n",
      "Data columns (total 14 columns):\n",
      "PatientId         110527 non-null float64\n",
      "AppointmentID     110527 non-null int64\n",
      "Gender            110527 non-null object\n",
      "ScheduledDay      110527 non-null object\n",
      "AppointmentDay    110527 non-null object\n",
      "Age               110527 non-null int64\n",
      "Neighbourhood     110527 non-null object\n",
      "Scholarship       110527 non-null int64\n",
      "Hipertension      110527 non-null int64\n",
      "Diabetes          110527 non-null int64\n",
      "Alcoholism        110527 non-null int64\n",
      "Handcap           110527 non-null int64\n",
      "SMS_received      110527 non-null int64\n",
      "No-show           110527 non-null object\n",
      "dtypes: float64(1), int64(8), object(5)\n",
      "memory usage: 11.8+ MB\n"
     ]
    }
   ],
   "source": [
    "df.info()"
   ]
  },
  {
   "cell_type": "markdown",
   "metadata": {},
   "source": [
    "<ul>\n",
    "    <li>PatientId type must change into type np.int64</li>\n",
    "    <li>AppointmentID,ScheduledDay types must change into type datetime64</li>\n",
    "    <li>Scholarship, Hipertension, Diabetes, Alcoholism, Handcap SMS_received and No_show types must change into type boolean</li>\n",
    "    <li>the No-show into No_show becauses it's easier to deal with in .query()</li>\n",
    "</ul>"
   ]
  },
  {
   "cell_type": "code",
   "execution_count": 38,
   "metadata": {
    "scrolled": false
   },
   "outputs": [
    {
     "data": {
      "text/plain": [
       "(110527, 14)"
      ]
     },
     "execution_count": 38,
     "metadata": {},
     "output_type": "execute_result"
    }
   ],
   "source": [
    "df.shape"
   ]
  },
  {
   "cell_type": "code",
   "execution_count": 39,
   "metadata": {},
   "outputs": [
    {
     "data": {
      "text/plain": [
       "0"
      ]
     },
     "execution_count": 39,
     "metadata": {},
     "output_type": "execute_result"
    }
   ],
   "source": [
    "sum(df.duplicated())"
   ]
  },
  {
   "cell_type": "code",
   "execution_count": 40,
   "metadata": {
    "scrolled": true
   },
   "outputs": [
    {
     "data": {
      "text/plain": [
       "False"
      ]
     },
     "execution_count": 40,
     "metadata": {},
     "output_type": "execute_result"
    }
   ],
   "source": [
    "df.isnull().sum().any()"
   ]
  },
  {
   "cell_type": "code",
   "execution_count": 41,
   "metadata": {
    "scrolled": true
   },
   "outputs": [
    {
     "data": {
      "text/html": [
       "<div>\n",
       "<style scoped>\n",
       "    .dataframe tbody tr th:only-of-type {\n",
       "        vertical-align: middle;\n",
       "    }\n",
       "\n",
       "    .dataframe tbody tr th {\n",
       "        vertical-align: top;\n",
       "    }\n",
       "\n",
       "    .dataframe thead th {\n",
       "        text-align: right;\n",
       "    }\n",
       "</style>\n",
       "<table border=\"1\" class=\"dataframe\">\n",
       "  <thead>\n",
       "    <tr style=\"text-align: right;\">\n",
       "      <th></th>\n",
       "      <th>PatientId</th>\n",
       "      <th>AppointmentID</th>\n",
       "      <th>Age</th>\n",
       "      <th>Scholarship</th>\n",
       "      <th>Hipertension</th>\n",
       "      <th>Diabetes</th>\n",
       "      <th>Alcoholism</th>\n",
       "      <th>Handcap</th>\n",
       "      <th>SMS_received</th>\n",
       "    </tr>\n",
       "  </thead>\n",
       "  <tbody>\n",
       "    <tr>\n",
       "      <th>count</th>\n",
       "      <td>1.105270e+05</td>\n",
       "      <td>1.105270e+05</td>\n",
       "      <td>110527.000000</td>\n",
       "      <td>110527.000000</td>\n",
       "      <td>110527.000000</td>\n",
       "      <td>110527.000000</td>\n",
       "      <td>110527.000000</td>\n",
       "      <td>110527.000000</td>\n",
       "      <td>110527.000000</td>\n",
       "    </tr>\n",
       "    <tr>\n",
       "      <th>mean</th>\n",
       "      <td>1.474963e+14</td>\n",
       "      <td>5.675305e+06</td>\n",
       "      <td>37.088874</td>\n",
       "      <td>0.098266</td>\n",
       "      <td>0.197246</td>\n",
       "      <td>0.071865</td>\n",
       "      <td>0.030400</td>\n",
       "      <td>0.022248</td>\n",
       "      <td>0.321026</td>\n",
       "    </tr>\n",
       "    <tr>\n",
       "      <th>std</th>\n",
       "      <td>2.560949e+14</td>\n",
       "      <td>7.129575e+04</td>\n",
       "      <td>23.110205</td>\n",
       "      <td>0.297675</td>\n",
       "      <td>0.397921</td>\n",
       "      <td>0.258265</td>\n",
       "      <td>0.171686</td>\n",
       "      <td>0.161543</td>\n",
       "      <td>0.466873</td>\n",
       "    </tr>\n",
       "    <tr>\n",
       "      <th>min</th>\n",
       "      <td>3.920000e+04</td>\n",
       "      <td>5.030230e+06</td>\n",
       "      <td>-1.000000</td>\n",
       "      <td>0.000000</td>\n",
       "      <td>0.000000</td>\n",
       "      <td>0.000000</td>\n",
       "      <td>0.000000</td>\n",
       "      <td>0.000000</td>\n",
       "      <td>0.000000</td>\n",
       "    </tr>\n",
       "    <tr>\n",
       "      <th>25%</th>\n",
       "      <td>4.172615e+12</td>\n",
       "      <td>5.640286e+06</td>\n",
       "      <td>18.000000</td>\n",
       "      <td>0.000000</td>\n",
       "      <td>0.000000</td>\n",
       "      <td>0.000000</td>\n",
       "      <td>0.000000</td>\n",
       "      <td>0.000000</td>\n",
       "      <td>0.000000</td>\n",
       "    </tr>\n",
       "    <tr>\n",
       "      <th>50%</th>\n",
       "      <td>3.173180e+13</td>\n",
       "      <td>5.680573e+06</td>\n",
       "      <td>37.000000</td>\n",
       "      <td>0.000000</td>\n",
       "      <td>0.000000</td>\n",
       "      <td>0.000000</td>\n",
       "      <td>0.000000</td>\n",
       "      <td>0.000000</td>\n",
       "      <td>0.000000</td>\n",
       "    </tr>\n",
       "    <tr>\n",
       "      <th>75%</th>\n",
       "      <td>9.439170e+13</td>\n",
       "      <td>5.725524e+06</td>\n",
       "      <td>55.000000</td>\n",
       "      <td>0.000000</td>\n",
       "      <td>0.000000</td>\n",
       "      <td>0.000000</td>\n",
       "      <td>0.000000</td>\n",
       "      <td>0.000000</td>\n",
       "      <td>1.000000</td>\n",
       "    </tr>\n",
       "    <tr>\n",
       "      <th>max</th>\n",
       "      <td>9.999820e+14</td>\n",
       "      <td>5.790484e+06</td>\n",
       "      <td>115.000000</td>\n",
       "      <td>1.000000</td>\n",
       "      <td>1.000000</td>\n",
       "      <td>1.000000</td>\n",
       "      <td>1.000000</td>\n",
       "      <td>4.000000</td>\n",
       "      <td>1.000000</td>\n",
       "    </tr>\n",
       "  </tbody>\n",
       "</table>\n",
       "</div>"
      ],
      "text/plain": [
       "          PatientId  AppointmentID      ...              Handcap   SMS_received\n",
       "count  1.105270e+05   1.105270e+05      ...        110527.000000  110527.000000\n",
       "mean   1.474963e+14   5.675305e+06      ...             0.022248       0.321026\n",
       "std    2.560949e+14   7.129575e+04      ...             0.161543       0.466873\n",
       "min    3.920000e+04   5.030230e+06      ...             0.000000       0.000000\n",
       "25%    4.172615e+12   5.640286e+06      ...             0.000000       0.000000\n",
       "50%    3.173180e+13   5.680573e+06      ...             0.000000       0.000000\n",
       "75%    9.439170e+13   5.725524e+06      ...             0.000000       1.000000\n",
       "max    9.999820e+14   5.790484e+06      ...             4.000000       1.000000\n",
       "\n",
       "[8 rows x 9 columns]"
      ]
     },
     "execution_count": 41,
     "metadata": {},
     "output_type": "execute_result"
    }
   ],
   "source": [
    "df.describe()"
   ]
  },
  {
   "cell_type": "markdown",
   "metadata": {},
   "source": [
    "age has a min of -1?"
   ]
  },
  {
   "cell_type": "code",
   "execution_count": 42,
   "metadata": {
    "scrolled": true
   },
   "outputs": [
    {
     "data": {
      "text/html": [
       "<div>\n",
       "<style scoped>\n",
       "    .dataframe tbody tr th:only-of-type {\n",
       "        vertical-align: middle;\n",
       "    }\n",
       "\n",
       "    .dataframe tbody tr th {\n",
       "        vertical-align: top;\n",
       "    }\n",
       "\n",
       "    .dataframe thead th {\n",
       "        text-align: right;\n",
       "    }\n",
       "</style>\n",
       "<table border=\"1\" class=\"dataframe\">\n",
       "  <thead>\n",
       "    <tr style=\"text-align: right;\">\n",
       "      <th></th>\n",
       "      <th>PatientId</th>\n",
       "      <th>AppointmentID</th>\n",
       "      <th>Gender</th>\n",
       "      <th>ScheduledDay</th>\n",
       "      <th>AppointmentDay</th>\n",
       "      <th>Age</th>\n",
       "      <th>Neighbourhood</th>\n",
       "      <th>Scholarship</th>\n",
       "      <th>Hipertension</th>\n",
       "      <th>Diabetes</th>\n",
       "      <th>Alcoholism</th>\n",
       "      <th>Handcap</th>\n",
       "      <th>SMS_received</th>\n",
       "      <th>No-show</th>\n",
       "    </tr>\n",
       "  </thead>\n",
       "  <tbody>\n",
       "    <tr>\n",
       "      <th>99832</th>\n",
       "      <td>4.659430e+14</td>\n",
       "      <td>5775010</td>\n",
       "      <td>F</td>\n",
       "      <td>2016-06-06T08:58:13Z</td>\n",
       "      <td>2016-06-06T00:00:00Z</td>\n",
       "      <td>-1</td>\n",
       "      <td>ROMÃO</td>\n",
       "      <td>0</td>\n",
       "      <td>0</td>\n",
       "      <td>0</td>\n",
       "      <td>0</td>\n",
       "      <td>0</td>\n",
       "      <td>0</td>\n",
       "      <td>No</td>\n",
       "    </tr>\n",
       "  </tbody>\n",
       "</table>\n",
       "</div>"
      ],
      "text/plain": [
       "          PatientId  AppointmentID Gender   ...    Handcap SMS_received  No-show\n",
       "99832  4.659430e+14        5775010      F   ...          0            0       No\n",
       "\n",
       "[1 rows x 14 columns]"
      ]
     },
     "execution_count": 42,
     "metadata": {},
     "output_type": "execute_result"
    }
   ],
   "source": [
    "df.query(\"Age < 0\").head()"
   ]
  },
  {
   "cell_type": "markdown",
   "metadata": {},
   "source": [
    "invalid age, replace with the mean of df[\"AGE\"]"
   ]
  },
  {
   "cell_type": "code",
   "execution_count": 45,
   "metadata": {},
   "outputs": [
    {
     "data": {
      "image/png": "[encoded data removed]",
      "text/plain": [
       "<Figure size 1080x864 with 9 Axes>"
      ]
     },
     "metadata": {
      "needs_background": "light"
     },
     "output_type": "display_data"
    }
   ],
   "source": [
    "df.hist(figsize=(15,12));"
   ]
  },
  {
   "cell_type": "markdown",
   "metadata": {},
   "source": [
    "\n",
    "### Data Cleaning (Replace this with more specific notes!)"
   ]
  },
  {
   "cell_type": "code",
   "execution_count": 46,
   "metadata": {},
   "outputs": [],
   "source": [
    "def remove_nulls_and_duplicates(d):\n",
    "    '''removes any nulls and duplicates it finds when given a dataframe'''\n",
    "    if sum(d.duplicated()) > 0:\n",
    "        d = d.drop_duplicates(inplace=True)\n",
    "    if d.isnull().sum().any():\n",
    "        d = d.dropna(inplace=True)\n",
    "    # this part had to be hard coded becauses .isnull() does not detect negative numbers\n",
    "    d.loc[(d.Age < 0), 'Age'] = round(df[\"Age\"].mean())\n",
    "    return d\n",
    "\n",
    "\n",
    "def change_to_int64(d, fields):\n",
    "    '''takes a dataframe and a list of fields and changes the type of those fields into np.int64'''\n",
    "    for field in fields:\n",
    "        d[field] = d[field].astype(np.int64)\n",
    "    return d\n",
    "\n",
    "\n",
    "def change_to_datetime64(d, fields):\n",
    "    '''takes a dataframe and a list of fields and changes the type of those fields into datetime64[ns]'''\n",
    "    for field in fields:\n",
    "        d[field] = d[field].astype('datetime64[ns]')\n",
    "    return d\n",
    "\n",
    "\n",
    "def change_to_bool(d, fields):\n",
    "    '''takes a dataframe and a list of fields and changes the type of those fields into 'bool'''\n",
    "    for field in fields:\n",
    "        d[field] = d[field].astype('bool')\n",
    "    return d\n"
   ]
  },
  {
   "cell_type": "code",
   "execution_count": 47,
   "metadata": {},
   "outputs": [],
   "source": [
    "# step 2 Data wrangling\n",
    "\n",
    "# step 2.1 Remove nulls & duplicates\n",
    "df = remove_nulls_and_duplicates(df)\n",
    "\n",
    "# step 2.2 Fix types\n",
    "df = change_to_int64(df, ['PatientId'])\n",
    "df = change_to_datetime64(df, ['ScheduledDay', 'AppointmentDay'])\n",
    "df = change_to_bool(df, ['Scholarship', 'Hipertension', 'Diabetes', 'Alcoholism', 'Handcap', 'SMS_received'])\n",
    "# change the name of the No-show field into No_show becauses it's easier to deal with in .query()\n",
    "df['No_show'] = df['No-show'].replace(dict(Yes=True, No=False))\n",
    "del df['No-show']\n",
    "\n",
    "# step 2.3 drop the fields that were aren't using\n",
    "df.drop(['Neighbourhood','Scholarship', 'Hipertension', 'Diabetes', 'Alcoholism', 'Handcap'],axis=1,inplace=True)"
   ]
  },
  {
   "cell_type": "markdown",
   "metadata": {},
   "source": [
    "<a id='eda'></a>\n",
    "## Exploratory Data Analysis\n",
    "\n",
    "> **Tip**: Now that you've trimmed and cleaned your data, you're ready to move on to exploration. Compute statistics and create visualizations with the goal of addressing the research questions that you posed in the Introduction section. It is recommended that you be systematic with your approach. Look at one variable at a time, and then follow it up by looking at relationships between variables.\n",
    "\n",
    "### Research Question 1:\n",
    "#### is there a relationship between (AppointmentDay-ScheduledDay) & No-show"
   ]
  },
  {
   "cell_type": "code",
   "execution_count": 48,
   "metadata": {
    "scrolled": true
   },
   "outputs": [
    {
     "data": {
      "image/png": "[encoded data removed]",
      "text/plain": [
       "<Figure size 432x288 with 1 Axes>"
      ]
     },
     "metadata": {
      "needs_background": "light"
     },
     "output_type": "display_data"
    }
   ],
   "source": [
    "df[\"Days_Between_Ad_Sd\"] = df['AppointmentDay'].dt.date - df['ScheduledDay'].dt.date\n",
    "\n",
    "# plot 1 - \"Relationship between (AppointmentDay - ScheduledDay)\\n and patiences showing up\" (not useful)\n",
    "plt.scatter(x=df[\"Days_Between_Ad_Sd\"].astype('timedelta64[D]'), y=df['No_show'])\n",
    "plt.title(\"Relationship between (AppointmentDay - ScheduledDay)\\n and patiences showing up\")\n",
    "plt.xlabel(\"(AppointmentDay - ScheduledDay)\")\n",
    "plt.ylabel(\"if the patience that show up\")\n",
    "plt.show()"
   ]
  },
  {
   "cell_type": "markdown",
   "metadata": {},
   "source": [
    "relationship not clear, try a other plot"
   ]
  },
  {
   "cell_type": "code",
   "execution_count": 49,
   "metadata": {
    "scrolled": true
   },
   "outputs": [
    {
     "data": {
      "text/plain": [
       "count                     110527\n",
       "mean     10 days 04:24:31.828602\n",
       "std      15 days 06:07:11.673762\n",
       "min            -6 days +00:00:00\n",
       "25%              0 days 00:00:00\n",
       "50%              4 days 00:00:00\n",
       "75%             15 days 00:00:00\n",
       "max            179 days 00:00:00\n",
       "Name: Days_Between_Ad_Sd, dtype: object"
      ]
     },
     "execution_count": 49,
     "metadata": {},
     "output_type": "execute_result"
    }
   ],
   "source": [
    "df[\"Days_Between_Ad_Sd\"].describe()"
   ]
  },
  {
   "cell_type": "markdown",
   "metadata": {},
   "source": [
    "min of -6? someone must of accidentally scheduled she/he appointmentDay to be last week"
   ]
  },
  {
   "cell_type": "code",
   "execution_count": 50,
   "metadata": {
    "scrolled": true
   },
   "outputs": [
    {
     "data": {
      "text/plain": [
       "0   0 days\n",
       "1   0 days\n",
       "2   0 days\n",
       "3   0 days\n",
       "4   0 days\n",
       "Name: Days_Between_Ad_Sd, dtype: timedelta64[ns]"
      ]
     },
     "execution_count": 50,
     "metadata": {},
     "output_type": "execute_result"
    }
   ],
   "source": [
    "df[\"Days_Between_Ad_Sd\"].head()"
   ]
  },
  {
   "cell_type": "code",
   "execution_count": 51,
   "metadata": {
    "scrolled": true
   },
   "outputs": [
    {
     "data": {
      "image/png": "[encoded data removed]",
      "text/plain": [
       "<Figure size 432x288 with 1 Axes>"
      ]
     },
     "metadata": {
      "needs_background": "light"
     },
     "output_type": "display_data"
    }
   ],
   "source": [
    "# plot 2 - The % of Patients that showed up per group\n",
    "cutoffs = ['min', '25%', '50%', '75%', 'max']\n",
    "bin_names = ['Group_{}'.format(num) for num in range(len(cutoffs))[1:]]\n",
    "bin_edges = [timedelta(-7), timedelta(0), timedelta(4), timedelta(15), timedelta(179)]\n",
    "df['Days_Between_Ad_Sd_Age_group'] = pd.cut(df['Days_Between_Ad_Sd'], bin_edges, labels=bin_names)\n",
    "\n",
    "groupsize = [\n",
    "        df.query(\"Days_Between_Ad_Sd_Age_group == '{}'\".format(bin_name)).count().AppointmentDay\n",
    "        for bin_name in bin_names]\n",
    "groupShow = [\n",
    "        df.query(\"Days_Between_Ad_Sd_Age_group == '{}' and No_show == False\".format(bin_name)).count().AppointmentDay\n",
    "        for bin_name in bin_names]\n",
    "groupShowp = [round((x / y) * 100).astype(int) for x, y in zip(groupShow, groupsize)]\n",
    "\n",
    "y = groupShowp\n",
    "xlabels = [\"{} ({})\".format(name, cutoff) for name, cutoff in zip(bin_names, cutoffs[1:])]\n",
    "x = range(len(bin_names))\n",
    "plt.bar(x, y)\n",
    "plt.xticks(x, xlabels)\n",
    "plt.xlabel(\"The Groups\")\n",
    "plt.ylabel(\"The % of Patients that showed up\")\n",
    "plt.title(\"The % of Patient that showed up per group\")\n",
    "plt.show()"
   ]
  },
  {
   "cell_type": "markdown",
   "metadata": {},
   "source": [
    "relationship is clear in this plot"
   ]
  },
  {
   "cell_type": "markdown",
   "metadata": {},
   "source": [
    "### Research Question 2 \n",
    "#### there a relationship between SMS_received & No-show"
   ]
  },
  {
   "cell_type": "code",
   "execution_count": 52,
   "metadata": {},
   "outputs": [],
   "source": [
    "# Continue to explore the data to address your additional research\n",
    "#   questions. Add more headers as needed if you have more questions to\n",
    "#   investigate.\n",
    "\n",
    "show = df.query('No_show == False').count().AppointmentDay\n",
    "no_show = df.query('No_show == True').count().AppointmentDay\n",
    "SMS_received = df.query('SMS_received == True').count().AppointmentDay\n",
    "SMS_received_show = df.query('SMS_received == True and No_show == False').count().AppointmentDay\n",
    "SMS_received_noshow = df.query('SMS_received == True and No_show == True').count().AppointmentDay\n",
    "noSMS_received = df.query('SMS_received == False').count().AppointmentDay\n",
    "noSMS_received_show = df.query('SMS_received == False and No_show == False').count().AppointmentDay\n",
    "noSMS_received_noshow = df.query('SMS_received == False and No_show == True').count().AppointmentDay\n",
    "    "
   ]
  },
  {
   "cell_type": "markdown",
   "metadata": {},
   "source": [
    "just count every possible outcome calculate the probability of it happening"
   ]
  },
  {
   "cell_type": "code",
   "execution_count": 53,
   "metadata": {
    "scrolled": true
   },
   "outputs": [
    {
     "data": {
      "image/png": "[encoded data removed]",
      "text/plain": [
       "<Figure size 432x288 with 1 Axes>"
      ]
     },
     "metadata": {
      "needs_background": "light"
     },
     "output_type": "display_data"
    }
   ],
   "source": [
    "# plot one - % of Patients that received a SMS & showed up Vs received a SMS & didn't show up\n",
    "y = [SMS_received_show / SMS_received, SMS_received_noshow / SMS_received]\n",
    "xlabels = ['Received SMS and showed up', \"Received SMS but didn't showed up\"]\n",
    "x = [1, 2]\n",
    "plt.bar(x, y)\n",
    "plt.xticks(x, xlabels)\n",
    "plt.title(\"% of Patient that received a SMS & showed up\\nVs received a SMS & but didn't show up\")\n",
    "plt.ylabel(\"% out of 1\")\n",
    "plt.show()"
   ]
  },
  {
   "cell_type": "markdown",
   "metadata": {},
   "source": [
    "given a Patient received a SMS & showed up vs give a Patient received a SMS & but didn't show up"
   ]
  },
  {
   "cell_type": "code",
   "execution_count": 54,
   "metadata": {
    "scrolled": true
   },
   "outputs": [
    {
     "data": {
      "image/png": "[encoded data removed]",
      "text/plain": [
       "<Figure size 432x288 with 1 Axes>"
      ]
     },
     "metadata": {
      "needs_background": "light"
     },
     "output_type": "display_data"
    }
   ],
   "source": [
    "# plot two - % of Patients that didn't received a SMS but showed up Vs didn't received a SMS & didn't show up\n",
    "y = [noSMS_received_show / noSMS_received, noSMS_received_noshow / noSMS_received]\n",
    "xlabels = [\"Didn't received SMS\\nbut showed up\", \"Didn't received SMS\\nand didn't showed up\"]\n",
    "x = [1, 2]\n",
    "plt.bar(x, y)\n",
    "plt.xticks(x, xlabels)\n",
    "plt.title(\"% of Patient that didn't received a SMS but showed up\\nVs didn't received a SMS & didn't show up\")\n",
    "plt.ylabel(\"% out of 1\")\n",
    "plt.show()"
   ]
  },
  {
   "cell_type": "markdown",
   "metadata": {},
   "source": [
    "given a Patient didn't received a SMS but showed up vs give a Patient didn't received a SMS & didn't show up"
   ]
  },
  {
   "cell_type": "code",
   "execution_count": 55,
   "metadata": {
    "scrolled": false
   },
   "outputs": [
    {
     "data": {
      "image/png": "[encoded data removed]",
      "text/plain": [
       "<Figure size 432x288 with 1 Axes>"
      ]
     },
     "metadata": {
      "needs_background": "light"
     },
     "output_type": "display_data"
    }
   ],
   "source": [
    "# plot three -  % of Patients that received a SMS and showed up Vs didn't received a SMS but showed up\n",
    "y = [SMS_received_show / show, noSMS_received_show / show]\n",
    "xlabels = ['Received SMS and showed up', \"Didn't received SMS\\nbut showed up\"]\n",
    "x = [1, 2]\n",
    "plt.bar(x, y)\n",
    "plt.xticks(x, xlabels)\n",
    "plt.title(\"% of Patients that received a SMS and showed up\\nVs didn't received a SMS but showed up\")\n",
    "plt.ylabel(\"% out of 1\")\n",
    "plt.show()"
   ]
  },
  {
   "cell_type": "markdown",
   "metadata": {},
   "source": [
    "from the total amount of Patients that show up,what % of them did got sms and what % of them didn't "
   ]
  },
  {
   "cell_type": "code",
   "execution_count": 56,
   "metadata": {
    "scrolled": false
   },
   "outputs": [
    {
     "data": {
      "image/png": "[encoded data removed]",
      "text/plain": [
       "<Figure size 432x288 with 1 Axes>"
      ]
     },
     "metadata": {
      "needs_background": "light"
     },
     "output_type": "display_data"
    }
   ],
   "source": [
    "y = [SMS_received_noshow / no_show, noSMS_received_noshow / no_show]\n",
    "xlabels = [\"Received SMS but didn't showed up\", \"Didn't received SMS\\nand didn't showed up\"]\n",
    "x = [1, 2]\n",
    "plt.bar(x, y)\n",
    "plt.xticks(x, xlabels)\n",
    "plt.title(\"% of Patients that received a SMS but didn't show up\\nVs didn't received a SMS & didn't show up\")\n",
    "plt.ylabel(\"% out of 1\")\n",
    "plt.show()\n"
   ]
  },
  {
   "cell_type": "markdown",
   "metadata": {},
   "source": [
    "from the total amount of Patients that didn't show up,what % of them did got sms and what % of them didn't "
   ]
  },
  {
   "cell_type": "markdown",
   "metadata": {},
   "source": [
    "### Research Question 3\n",
    "#### there relationship between age & no-show"
   ]
  },
  {
   "cell_type": "code",
   "execution_count": 57,
   "metadata": {},
   "outputs": [
    {
     "data": {
      "image/png": "[encoded data removed]",
      "text/plain": [
       "<Figure size 432x288 with 1 Axes>"
      ]
     },
     "metadata": {
      "needs_background": "light"
     },
     "output_type": "display_data"
    }
   ],
   "source": [
    "plt.scatter(x=df[\"Age\"], y=df['No_show'])\n",
    "plt.title(\"Relationship between Age \\n and patiences showing up\")\n",
    "plt.xlabel(\"Age\")\n",
    "plt.ylabel(\"if the patience that show up\")\n",
    "plt.show()"
   ]
  },
  {
   "cell_type": "markdown",
   "metadata": {},
   "source": [
    "again scatter plot doesn't show relationship clearly, try a other plot"
   ]
  },
  {
   "cell_type": "code",
   "execution_count": 58,
   "metadata": {
    "scrolled": true
   },
   "outputs": [
    {
     "data": {
      "text/plain": [
       "count    110527.000000\n",
       "mean         37.089218\n",
       "std          23.109921\n",
       "min           0.000000\n",
       "25%          18.000000\n",
       "50%          37.000000\n",
       "75%          55.000000\n",
       "max         115.000000\n",
       "Name: Age, dtype: float64"
      ]
     },
     "execution_count": 58,
     "metadata": {},
     "output_type": "execute_result"
    }
   ],
   "source": [
    "df[\"Age\"].describe()"
   ]
  },
  {
   "cell_type": "code",
   "execution_count": 59,
   "metadata": {
    "scrolled": true
   },
   "outputs": [
    {
     "data": {
      "image/png": "[encoded data removed]",
      "text/plain": [
       "<Figure size 432x288 with 1 Axes>"
      ]
     },
     "metadata": {
      "needs_background": "light"
     },
     "output_type": "display_data"
    }
   ],
   "source": [
    "cutoffs = ['min', '25%', '50%', '75%', 'max']\n",
    "bin_names = ['Group_{}'.format(num) for num in range(len(cutoffs))[1:]]\n",
    "bin_edges = [np.NINF, 18, 37, 55, 115]\n",
    "df['Age_group'] = pd.cut(df['Age'], bin_edges, labels=bin_names)\n",
    "\n",
    "groupsize = [df.query(\"Age_group == '{}'\".format(bin_name)).count().AppointmentDay for bin_name in bin_names]\n",
    "groupShow = [df.query(\"Age_group == '{}' and No_show == False\".format(bin_name)).count().AppointmentDay for\n",
    "                 bin_name in bin_names]\n",
    "groupShowp = [round((x / y) * 100).astype(int) for x, y in zip(groupShow, groupsize)]\n",
    "\n",
    "y = groupShowp\n",
    "xlabels = [\"{} ({})\".format(name, cutoff) for name, cutoff in zip(bin_names, cutoffs[1:])]\n",
    "x = range(len(bin_names))\n",
    "plt.bar(x, y)\n",
    "plt.xticks(x, xlabels)\n",
    "plt.title(\"Age group show %\")\n",
    "plt.xlabel(\"The Groups\")\n",
    "plt.ylabel(\"The % of patients that showed up\")\n",
    "plt.title(\"The % of patients that showed up per group\")\n",
    "plt.show()"
   ]
  },
  {
   "cell_type": "markdown",
   "metadata": {},
   "source": [
    "better"
   ]
  },
  {
   "cell_type": "markdown",
   "metadata": {},
   "source": [
    "<a id='conclusions'></a>\n",
    "## Conclusions\n",
    "\n",
    "> **Tip**: Finally, summarize your findings and the results that have been performed. Make sure that you are clear with regards to the limitations of your exploration. If you haven't done any statistical tests, do not imply any statistical conclusions. And make sure you avoid implying causation from correlation!\n",
    "\n",
    "### Q1)\n",
    "\n",
    "our 2nd plot show that longer that gap between appointment day and the scheduled day the more likely the patient won’t show up for the appointment.\n",
    "\n",
    "\n",
    "<ul>\n",
    "Note:\n",
    "    <li>Group_1 = [-6,0]</li>\n",
    "    <li>Group_2 = (0,4]</li>\n",
    "    <li>Group_3 = (4,15]</li>\n",
    "    <li>Group_4 = (15,179]</li>\n",
    "</ul>\n",
    "\n",
    "\n",
    "### Q2)\n",
    "\n",
    "#### Plot 1)\n",
    "\n",
    "No surprise here, given that a patient receives an SMS they are likely to show up to their appointment about 70% of the time.\n",
    "\n",
    "#### Plot 2)\n",
    "\n",
    "From this plot, we can theorize that most people either didn’t know that they can receive an SMS for their appointment or didn’t bother asking for the service because given that a patient doesn’t receive an SMS more than 80% of patients will show up for their appointment.\n",
    "\n",
    "#### Plot 3)\n",
    "\n",
    "This plot reinforces the theory stated above, form all the people who showed up for an appointment about %70 did receive an SMS.\n",
    "\n",
    "#### Plot 4)\n",
    "\n",
    "This plot is interesting, form all who didn't show up for their appointment about 45% of them were form patient that receive a SMS and as we theorize before the number of people who don't receive an SMS are the biggest group in this dataset which means that if you did receive an SMS you are more likely to not show up.\n",
    "\n",
    "#### Conclusion\n",
    "\n",
    "While there is a relationship between receiving an SMS and showing up for an appointment it is a weak one and I think this dataset just shows that most patients don’t ask for an SMS message than showing the relationship between SMS and showing up. \n",
    "\n",
    "### Q3)\n",
    "\n",
    "our 2nd shows there is no relationship between age and showing up for an appointment.\n",
    "\n",
    "\n",
    "<ul>\n",
    "Note:\n",
    "    <li>Group_1 = [0,18]</li>\n",
    "    <li>Group_2 = (18,37]</li>\n",
    "    <li>Group_3 = (37,55]</li>\n",
    "    <li>Group_4 = (55,115]</li>\n",
    "</ul>\n",
    "\n",
    "\n",
    "### Limitations)\n",
    "\n",
    "<ul>\n",
    "    <li>we a negative value in the age field which i replace it with value of mean of the whole field which might the best why to handly it and it might of affected my conclusion</li>\n",
    "    <li>the negative value also questions the integrity of the age</li>\n",
    "    <li>there is a huge a gap bewteen the amount that patients that receive a SMS and the amount that patients that didn't which might stem from the hospitals is not making such a service known to the patients</li>\n",
    "    <li>the way i explode the data is mostly correlational, and just because two variables correlate doesn't mean a the change in variable 1 changes something in variable 2</li> \n",
    "</ul>\n",
    "\n",
    "\n"
   ]
  }
 ],
 "metadata": {
  "kernelspec": {
   "display_name": "Python 3",
   "language": "python",
   "name": "python3"
  },
  "language_info": {
   "codemirror_mode": {
    "name": "ipython",
    "version": 3
   },
   "file_extension": ".py",
   "mimetype": "text/x-python",
   "name": "python",
   "nbconvert_exporter": "python",
   "pygments_lexer": "ipython3",
   "version": "3.7.1"
  }
 },
 "nbformat": 4,
 "nbformat_minor": 2
}
